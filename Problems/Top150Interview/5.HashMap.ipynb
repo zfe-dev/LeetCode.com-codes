{
 "cells": [
  {
   "cell_type": "markdown",
   "metadata": {},
   "source": [
    "# 383. Ransom Note\n",
    "\n",
    "Given two strings ransomNote and magazine, return true if ransomNote can be constructed by using the letters from magazine and false otherwise.\n",
    "\n",
    "Each letter in magazine can only be used once in ransomNote."
   ]
  },
  {
   "cell_type": "code",
   "execution_count": 12,
   "metadata": {},
   "outputs": [
    {
     "name": "stdout",
     "output_type": "stream",
     "text": [
      "baa\n",
      "baa\n",
      "ba\n",
      "ba\n",
      "b\n",
      "b\n"
     ]
    },
    {
     "data": {
      "text/plain": [
       "True"
      ]
     },
     "execution_count": 12,
     "metadata": {},
     "output_type": "execute_result"
    }
   ],
   "source": [
    "def canConstruct(ransomNote: str, magazine: str) -> bool:\n",
    "    for i in range(len(ransomNote)):\n",
    "        if ransomNote[i] in magazine:\n",
    "            magazine = magazine.replace(ransomNote[i], \"\", 1)\n",
    "        else:\n",
    "            return False\n",
    "\n",
    "    return True\n",
    "        \n",
    "canConstruct(\"aab\", \"baa\")  "
   ]
  },
  {
   "cell_type": "markdown",
   "metadata": {},
   "source": [
    "# 205. Isomorphic Strings\n",
    "\n",
    "Given two strings s and t, determine if they are isomorphic.\n",
    "\n",
    "Two strings s and t are isomorphic if the characters in s can be replaced to get t.\n",
    "\n",
    "All occurrences of a character must be replaced with another character while preserving the order of characters. No two characters may map to the same character, but a character may map to itself.\n",
    "\n",
    "Example 1:\n",
    "- Input: s = \"egg\", t = \"add\"\n",
    "- Output: true\n",
    "\n",
    "Example 2:\n",
    "- Input: s = \"foo\", t = \"bar\"\n",
    "- Output: false\n",
    "\n",
    "Example 3:\n",
    "- Input: s = \"paper\", t = \"title\"\n",
    "- Output: true"
   ]
  },
  {
   "cell_type": "code",
   "execution_count": 39,
   "metadata": {},
   "outputs": [
    {
     "data": {
      "text/plain": [
       "False"
      ]
     },
     "execution_count": 39,
     "metadata": {},
     "output_type": "execute_result"
    }
   ],
   "source": [
    "def isIsomorphic(s: str, t: str) -> bool:\n",
    "    # Dictionnary containing convertions (current letter -> replacing letter)\n",
    "    covered_letters = {}\n",
    "\n",
    "    for i in range(len(s)):\n",
    "        current_letter = s[i]\n",
    "        replacing_letter = t[i]\n",
    "        \n",
    "        # If the current letter is not in the dictionnary, try to add it\n",
    "        if current_letter not in covered_letters:\n",
    "            # If the replacing letter is already mapped, return False, it can't be isomorphic\n",
    "            if replacing_letter in covered_letters.values():\n",
    "                return False\n",
    "            # Otherwise, add to letter to the dict\n",
    "            covered_letters[current_letter] = replacing_letter\n",
    "        # If the current replacing letter is different than the mapped one, it can't be isomorphic\n",
    "        elif replacing_letter != covered_letters[current_letter]:\n",
    "            return False\n",
    "        \n",
    "    return True\n",
    "        \n",
    "isIsomorphic(\"foo\", \"bar\")       \n",
    "#isIsomorphic(\"paper\", \"title\")       \n",
    "        "
   ]
  }
 ],
 "metadata": {
  "kernelspec": {
   "display_name": "Python 3",
   "language": "python",
   "name": "python3"
  },
  "language_info": {
   "codemirror_mode": {
    "name": "ipython",
    "version": 3
   },
   "file_extension": ".py",
   "mimetype": "text/x-python",
   "name": "python",
   "nbconvert_exporter": "python",
   "pygments_lexer": "ipython3",
   "version": "3.11.9"
  }
 },
 "nbformat": 4,
 "nbformat_minor": 2
}
