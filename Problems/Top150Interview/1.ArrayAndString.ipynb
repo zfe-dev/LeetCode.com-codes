{
 "cells": [
  {
   "cell_type": "code",
   "execution_count": 2,
   "metadata": {},
   "outputs": [],
   "source": [
    "from typing import List\n",
    "import math"
   ]
  },
  {
   "cell_type": "markdown",
   "metadata": {},
   "source": [
    "# 88. Merge two sorted arrays\n",
    "\n",
    "You are given two integer arrays nums1 and nums2, sorted in non-decreasing order, and two integers m and n, representing the number of elements in nums1 and nums2 respectively.\n",
    "\n",
    "Merge nums1 and nums2 into a single array sorted in non-decreasing order.\n",
    "\n",
    "The final sorted array should not be returned by the function, but instead be stored inside the array nums1. To accommodate this, nums1 has a length of m + n, where the first m elements denote the elements that should be merged, and the last n elements are set to 0 and should be ignored. nums2 has a length of n."
   ]
  },
  {
   "cell_type": "code",
   "execution_count": null,
   "metadata": {},
   "outputs": [],
   "source": [
    "arr1 = [1,2,3,0,0,0]\n",
    "arr2 = [2,5,6]\n",
    "\n",
    "print(arr1)\n",
    "print(arr2)\n",
    "\n",
    "\n",
    "def merge(nums1: List[int], m: int, nums2: List[int], n: int) -> None:\n",
    "    for x in range (0, n):\n",
    "        nums1[len(nums1) - n + x] = nums2[x]\n",
    "\n",
    "    nums1.sort()\n",
    "\n",
    "merge(arr1, len(arr1), arr2, len(arr2))\n",
    "\n",
    "print(\"res\")\n",
    "print(arr1)\n"
   ]
  },
  {
   "cell_type": "markdown",
   "metadata": {},
   "source": [
    "# 27. Remove element\n",
    "\n",
    "Given an integer array nums and an integer val, remove all occurrences of val in nums in-place. The order of the elements may be changed. Then return the number of elements in nums which are not equal to val.\n",
    "\n",
    "Consider the number of elements in nums which are not equal to val be k, to get accepted, you need to do the following things:\n",
    "\n",
    "Change the array nums such that the first k elements of nums contain the elements which are not equal to val. The remaining elements of nums are not important as well as the size of nums.\n",
    "Return k."
   ]
  },
  {
   "cell_type": "code",
   "execution_count": null,
   "metadata": {},
   "outputs": [],
   "source": [
    "nums = [0,1,2,2,3,0,4,2]\n",
    "\n",
    "def removeElement(nums: List[int], val: int) -> int:\n",
    "    count = 0\n",
    "\n",
    "    for i in range(0, len(nums)):\n",
    "        if nums[i - count] == val:\n",
    "            nums.pop(i - count)\n",
    "            count += 1\n",
    "\n",
    "    return len(nums)\n",
    "\n",
    "\n",
    "print(nums)\n",
    "print(removeElement(nums, 2))\n",
    "print(nums)"
   ]
  },
  {
   "cell_type": "markdown",
   "metadata": {},
   "source": [
    "# 26. Remove duplicates from sorted array\n",
    "\n",
    "Given an integer array nums sorted in non-decreasing order, remove the duplicates in-place such that each unique element appears only once. The relative order of the elements should be kept the same. Then return the number of unique elements in nums.\n",
    "\n",
    "Consider the number of unique elements of nums to be k, to get accepted, you need to do the following things:\n",
    "\n",
    "Change the array nums such that the first k elements of nums contain the unique elements in the order they were present in nums initially. The remaining elements of nums are not important as well as the size of nums.\n",
    "Return k."
   ]
  },
  {
   "cell_type": "code",
   "execution_count": null,
   "metadata": {},
   "outputs": [],
   "source": [
    "nums = [1,1,2]\n",
    "\n",
    "def removeDuplicates(nums: List[int]) -> int:\n",
    "    count = 0\n",
    "\n",
    "    for i in range(len(nums) - 1):\n",
    "        index = i - count\n",
    "        if nums[index] == nums[index + 1]:\n",
    "            nums.pop(index + 1)\n",
    "            count += 1\n",
    "\n",
    "    return len(nums)\n",
    "\n",
    "print(removeDuplicates(nums))\n",
    "print(nums)"
   ]
  },
  {
   "cell_type": "markdown",
   "metadata": {},
   "source": [
    "# 80. Remove duplicates from sorted Array II\n",
    "\n",
    "Given an integer array nums sorted in non-decreasing order, remove some duplicates in-place such that each unique element appears at most twice. The relative order of the elements should be kept the same.\n",
    "\n",
    "Since it is impossible to change the length of the array in some languages, you must instead have the result be placed in the first part of the array nums. More formally, if there are k elements after removing the duplicates, then the first k elements of nums should hold the final result. It does not matter what you leave beyond the first k elements.\n",
    "\n",
    "Return k after placing the final result in the first k slots of nums.\n",
    "\n",
    "Do not allocate extra space for another array. You must do this by modifying the input array in-place with O(1) extra memory."
   ]
  },
  {
   "cell_type": "code",
   "execution_count": null,
   "metadata": {},
   "outputs": [],
   "source": [
    "nums = [0,0,0,1,1,2,3,3]\n",
    "def removeDuplicatesII(nums: List[int]) -> int:\n",
    "    j = 2\n",
    "\n",
    "    for i in range (2, len(nums)):\n",
    "        if nums[i] != nums[j - 2]:\n",
    "            nums[j] = nums[i]\n",
    "            j += 1\n",
    "\n",
    "    return j\n",
    "\n",
    "print(nums)\n",
    "removeDuplicatesII(nums)\n",
    "print(nums)"
   ]
  },
  {
   "cell_type": "markdown",
   "metadata": {},
   "source": [
    "# 169. Majority element\n",
    "\n",
    "Given an array nums of size n, return the majority element.\n",
    "\n",
    "The majority element is the element that appears more than ⌊n / 2⌋ times. You may assume that the majority element always exists in the array."
   ]
  },
  {
   "cell_type": "code",
   "execution_count": null,
   "metadata": {},
   "outputs": [],
   "source": [
    "nums = [2,2,3,3,3,3,2]\n",
    "\n",
    "def majorityElement(nums: List[int]) -> int:\n",
    "    nums.sort()\n",
    "    return len(nums)//2\n",
    "\n",
    "def majorityElementSecond(nums: List[int]) -> int:\n",
    "    count = 1\n",
    "\n",
    "print(nums)\n",
    "print(\"res: \" + str(majorityElement(nums)))"
   ]
  },
  {
   "cell_type": "markdown",
   "metadata": {},
   "source": [
    "# 189. Rotate Array\n",
    "\n",
    "Given an integer array nums, rotate the array to the right by k steps, where k is non-negative."
   ]
  },
  {
   "cell_type": "code",
   "execution_count": null,
   "metadata": {},
   "outputs": [],
   "source": [
    "nums = [1,2,3,4,5,6,7]\n",
    "k = 3\n",
    "\n",
    "def rotate(nums: List[int], k: int) -> None:\n",
    "    nums2 = nums[-k % len(nums):] + nums[:-k % len(nums)]\n",
    "    nums.clear()\n",
    "    nums.extend(nums2)\n",
    "\n",
    "def rotateSecond(nums: List[int], k: int) -> None:\n",
    "    last = nums[-1]\n",
    "\n",
    "    if k == 0:\n",
    "        return 0\n",
    "    \n",
    "    for i in range(len(nums) - 1, 0, -1):\n",
    "        nums[i] = nums[i - 1]\n",
    "    nums[0] = last\n",
    "    k -= 1\n",
    "\n",
    "    return rotateSecond(nums, k)\n",
    "\n",
    "def rotateThird(nums: List[int], k: int) -> None:    \n",
    "    nums2 = nums.copy()\n",
    "    for i in range(0, len(nums)):\n",
    "        nums[i] = nums2[i - k % len(nums)]\n",
    "\n",
    "print(nums)\n",
    "print(k)\n",
    "rotateThird(nums, k)\n",
    "print(nums)"
   ]
  },
  {
   "cell_type": "markdown",
   "metadata": {},
   "source": [
    "# 121. Best time to buy and sell stock\n",
    "\n",
    "You are given an array prices where prices[i] is the price of a given stock on the ith day.\n",
    "\n",
    "You want to maximize your profit by choosing a single day to buy one stock and choosing a different day in the future to sell that stock.\n",
    "\n",
    "Return the maximum profit you can achieve from this transaction. If you cannot achieve any profit, return 0."
   ]
  },
  {
   "cell_type": "code",
   "execution_count": null,
   "metadata": {},
   "outputs": [],
   "source": [
    "prices = [7, 1, 5, 3, 6, 4]\n",
    "\n",
    "def maxProfit(prices: List[int]) -> int:\n",
    "    buyPrice = min(prices)\n",
    "    buyDay = prices.index(buyPrice)\n",
    "\n",
    "    sellPrice = max(prices[buyDay:len(prices)])\n",
    "\n",
    "    return sellPrice - buyPrice if buyPrice < sellPrice else 0\n",
    "\n",
    "def maxProfitSecond(prices: List[int]) -> int:\n",
    "    nums2 = prices.copy()\n",
    "    nums2.sort()\n",
    "\n",
    "    res = [ 0 ]\n",
    "\n",
    "    for i in range(len(nums2)):\n",
    "        min_curr = nums2[i]\n",
    "        min_curr_index = prices.index(min_curr)\n",
    "        \n",
    "        print(\"--\")\n",
    "        print(min_curr)\n",
    "\n",
    "        sub_prices = prices[min_curr_index:]\n",
    "\n",
    "        for j in range(len(nums2) - 1, i, -1):\n",
    "            max_curr = nums2[j]\n",
    "            print(max_curr)\n",
    "            if max_curr in sub_prices:\n",
    "                max_curr_index = sub_prices.index(max_curr) + min_curr_index\n",
    "                if max_curr > min_curr and max_curr_index > min_curr_index:\n",
    "                    res.append(max_curr - min_curr)\n",
    "\n",
    "    print(res)\n",
    "\n",
    "    return max(res)\n",
    "\n",
    "def maxProfitThird(prices: List[int]) -> int:\n",
    "    left = 0\n",
    "    right = 1\n",
    "\n",
    "    max_profit = 0\n",
    "\n",
    "    while right < len(prices):\n",
    "        currentProfit = prices[right] - prices[left]\n",
    "        if prices[left] < prices[right]:\n",
    "            max_profit = max(currentProfit, max_profit)\n",
    "        else:\n",
    "            left = right\n",
    "        right += 1\n",
    "\n",
    "    return max_profit\n",
    "\n",
    "\n",
    "print(maxProfitThird(prices))"
   ]
  },
  {
   "cell_type": "markdown",
   "metadata": {},
   "source": [
    "# 122. Best Time to Buy and Sell Stock II\n",
    "\n",
    "You are given an integer array prices where prices[i] is the price of a given stock on the ith day.\n",
    "\n",
    "On each day, you may decide to buy and/or sell the stock. You can only hold at most one share of the stock at any time. However, you can buy it then immediately sell it on the same day.\n",
    "\n",
    "Find and return the maximum profit you can achieve."
   ]
  },
  {
   "cell_type": "code",
   "execution_count": 20,
   "metadata": {},
   "outputs": [
    {
     "name": "stdout",
     "output_type": "stream",
     "text": [
      "[7, 1, 5, 3, 6, 4]\n",
      "--\n",
      "1\n",
      "5\n",
      "--\n",
      "3\n",
      "6\n",
      "--\n",
      "6\n",
      "4\n",
      "7\n",
      "7\n",
      "[1, 2]\n",
      "--\n",
      "1\n",
      "2\n",
      "1\n",
      "1\n",
      "[2, 2, 5]\n",
      "--\n",
      "2\n",
      "5\n",
      "3\n",
      "3\n"
     ]
    }
   ],
   "source": [
    "prices = [7, 1, 5, 3, 6, 4]\n",
    "\n",
    "def maxProfit(prices: List[int]) -> int:\n",
    "    left = 0\n",
    "    profit = 0\n",
    "    right = 0\n",
    "\n",
    "    print(prices)\n",
    "    \n",
    "\n",
    "    while right < len(prices) - 1:\n",
    "        while prices[left] >= prices[left + 1] and left < len(prices) - 2:\n",
    "            left += 1\n",
    "        \n",
    "        right = left + 1\n",
    "            \n",
    "        print(\"--\")\n",
    "        print(prices[left])\n",
    "        print(prices[right])\n",
    "        \n",
    "        if prices[right] > prices[left]:\n",
    "            profit += prices[right] - prices[left] \n",
    "            left = right\n",
    "\n",
    "\n",
    "    print(profit)\n",
    "\n",
    "    return profit\n",
    "\n",
    "\n",
    "print(maxProfit(prices))\n",
    "print(maxProfit([1,2]))\n",
    "print(maxProfit([2,2,5]))\n",
    "#print(maxProfit([7,6,4,3,1]))"
   ]
  },
  {
   "cell_type": "markdown",
   "metadata": {},
   "source": [
    "# 55. Jump Game\n",
    "\n",
    "You are given an integer array nums. You are initially positioned at the array's first index, and each element in the array represents your maximum jump length at that position.\n",
    "\n",
    "Return true if you can reach the last index, or false otherwise."
   ]
  },
  {
   "cell_type": "code",
   "execution_count": 10,
   "metadata": {},
   "outputs": [
    {
     "name": "stdout",
     "output_type": "stream",
     "text": [
      "4\n",
      "True\n",
      "3\n",
      "False\n"
     ]
    }
   ],
   "source": [
    "def canJump(nums: List[int]) -> bool:    \n",
    "    curr_index = 0\n",
    "        \n",
    "    while curr_index >= 0 and curr_index < len(nums) - 1 and nums[curr_index] != 0:\n",
    "        curr_index += nums[curr_index]\n",
    "    \n",
    "    if curr_index == len(nums) - 1:\n",
    "        return True\n",
    "        \n",
    "    return False\n",
    "        \n",
    "    \n",
    "print(canJump([2,3,1,1,4]))\n",
    "print(canJump([3,2,1,0,4]))"
   ]
  }
 ],
 "metadata": {
  "kernelspec": {
   "display_name": "Notebooks",
   "language": "python",
   "name": "python3"
  },
  "language_info": {
   "codemirror_mode": {
    "name": "ipython",
    "version": 3
   },
   "file_extension": ".py",
   "mimetype": "text/x-python",
   "name": "python",
   "nbconvert_exporter": "python",
   "pygments_lexer": "ipython3",
   "version": "3.11.9"
  }
 },
 "nbformat": 4,
 "nbformat_minor": 2
}
