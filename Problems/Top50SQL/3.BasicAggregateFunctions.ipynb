{
 "cells": [
  {
   "cell_type": "markdown",
   "metadata": {},
   "source": [
    "# 620. Not Boring Movies\n",
    "\n",
    "Table: Cinema\n",
    "\n",
    "| Column Name    | Type     |\n",
    "| --- | --- |\n",
    "| id             | int      |\n",
    "| movie          | varchar  |\n",
    "| description    | varchar  |\n",
    "| rating         | float    |\n",
    "\n",
    "id is the primary key (column with unique values) for this table.\n",
    "Each row contains information about the name of a movie, its genre, and its rating.\n",
    "rating is a 2 decimal places float in the range [0, 10]\n",
    "\n",
    "Write a solution to report the movies with an odd-numbered ID and a description that is not \"boring\".\n",
    "\n",
    "Return the result table ordered by rating in descending order."
   ]
  },
  {
   "cell_type": "code",
   "execution_count": null,
   "metadata": {
    "vscode": {
     "languageId": "sql"
    }
   },
   "outputs": [],
   "source": [
    "///// First version\n",
    "SELECT *\n",
    "FROM Cinema\n",
    "WHERE Cinema.id % 2 = 1 \n",
    "AND Cinema.description NOT LIKE '%boring%'\n",
    "ORDER BY Cinema.rating DESC\n",
    "\n",
    "///// Second version\n",
    "SELECT *\n",
    "FROM Cinema\n",
    "WHERE mod(Cinema.id, 2) = 1 \n",
    "AND Cinema.description NOT LIKE 'boring'\n",
    "ORDER BY Cinema.rating DESC"
   ]
  },
  {
   "cell_type": "markdown",
   "metadata": {},
   "source": []
  },
  {
   "cell_type": "code",
   "execution_count": null,
   "metadata": {
    "vscode": {
     "languageId": "sql"
    }
   },
   "outputs": [],
   "source": []
  }
 ],
 "metadata": {
  "language_info": {
   "name": "python"
  }
 },
 "nbformat": 4,
 "nbformat_minor": 2
}
