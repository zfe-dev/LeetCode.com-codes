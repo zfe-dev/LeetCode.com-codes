{
 "cells": [
  {
   "cell_type": "markdown",
   "metadata": {},
   "source": [
    "# 1378. Replace Employee ID with the Unique Identifier\n",
    "\n",
    "\n",
    "Table: Employees\n",
    "\n",
    "| Column Name   | Type    |\n",
    "| --- | --- |\n",
    "| id            | int     |\n",
    "| name          | varchar |\n",
    "\n",
    "id is the primary key (column with unique values) for this table.\n",
    "Each row of this table contains the id and the name of an employee in a company.\n",
    " \n",
    "\n",
    "Table: EmployeeUNI\n",
    "\n",
    "| Column Name   | Type    |\n",
    "| --- | --- |\n",
    "| id            | int     |\n",
    "| unique_id     | int     |\n",
    "\n",
    "(id, unique_id) is the primary key (combination of columns with unique values) for this table.\n",
    "Each row of this table contains the id and the corresponding unique id of an employee in the company.\n",
    "\n",
    "-- \n",
    "\n",
    "Write a solution to show the unique ID of each user, If a user does not have a unique ID replace just show null.\n",
    "\n",
    "Return the result table in any order."
   ]
  },
  {
   "cell_type": "code",
   "execution_count": null,
   "metadata": {
    "vscode": {
     "languageId": "sql"
    }
   },
   "outputs": [],
   "source": [
    "\n",
    "SELECT EmployeeUNI.unique_id, Employees.name \n",
    "FROM Employees \n",
    "LEFT JOIN EmployeeUNI ON EmployeeUNI.id = Employees.id"
   ]
  },
  {
   "cell_type": "markdown",
   "metadata": {},
   "source": [
    "# 1068. Product Sales Analasys I\n",
    "\n",
    "Table: Sales\n",
    "\n",
    "| Column Name | Type  |\n",
    "| --- | --- |\n",
    "| sale_id     | int   |\n",
    "| product_id  | int   |\n",
    "| year        | int   |\n",
    "| quantity    | int   |\n",
    "| price       | int   |\n",
    "\n",
    "(sale_id, year) is the primary key (combination of columns with unique values) of this table.\n",
    "product_id is a foreign key (reference column) to Product table.\n",
    "Each row of this table shows a sale on the product product_id in a certain year.\n",
    "Note that the price is per unit.\n",
    " \n",
    "\n",
    "Table: Product\n",
    "\n",
    "| Column Name  | Type    |\n",
    "| --- | --- |\n",
    "| product_id   | int     |\n",
    "| product_name | varchar |\n",
    "\n",
    "product_id is the primary key (column with unique values) of this table.\n",
    "Each row of this table indicates the product name of each product.\n",
    "\n",
    "-- \n",
    "\n",
    "Write a solution to report the product_name, year, and price for each sale_id in the Sales table.\n",
    "\n",
    "Return the resulting table in any order."
   ]
  },
  {
   "cell_type": "code",
   "execution_count": null,
   "metadata": {
    "vscode": {
     "languageId": "sql"
    }
   },
   "outputs": [],
   "source": [
    "SELECT Product.product_name, Sales.year, Sales.price\n",
    "FROM Sales\n",
    "JOIN Product ON Sales.product_id = Product.product_id"
   ]
  },
  {
   "cell_type": "markdown",
   "metadata": {},
   "source": [
    "# 1581. Customer who visited but did not make any transactions\n",
    "\n",
    "Table: Visits\n",
    "\n",
    "| Column Name | Type    |\n",
    "| --- | --- |\n",
    "| visit_id    | int     |\n",
    "| customer_id | int     |\n",
    "\n",
    "visit_id is the column with unique values for this table.\n",
    "This table contains information about the customers who visited the mall.\n",
    " \n",
    "\n",
    "Table: Transactions\n",
    "\n",
    "| Column Name    | Type    |\n",
    "| --- | --- |\n",
    "| transaction_id | int     |\n",
    "| visit_id       | int     |\n",
    "| amount         | int     |\n",
    "\n",
    "transaction_id is column with unique values for this table.\n",
    "This table contains information about the transactions made during the visit_id.\n",
    "\n",
    "--\n",
    "\n",
    "Write a solution to find the IDs of the users who visited without making any transactions and the number of times they made these types of visits.\n",
    "\n",
    "Return the result table sorted in any order."
   ]
  },
  {
   "cell_type": "code",
   "execution_count": null,
   "metadata": {
    "vscode": {
     "languageId": "sql"
    }
   },
   "outputs": [],
   "source": [
    "SELECT customer_id, COUNT(*) as count_no_trans \n",
    "FROM Visits\n",
    "LEFT JOIN Transactions ON Visits.visit_id = Transactions.visit_id\n",
    "WHERE Transactions.transaction_id is Null\n",
    "GROUP BY customer_id"
   ]
  },
  {
   "cell_type": "markdown",
   "metadata": {},
   "source": [
    "# 197. Rising temperature\n",
    "\n",
    "Table: Weather\n",
    "\n",
    "| Column Name   | Type    |\n",
    "| --- | --- |\n",
    "| id            | int     |\n",
    "| recordDate    | date    |\n",
    "| temperature   | int     |\n",
    "\n",
    "id is the column with unique values for this table.\n",
    "There are no different rows with the same recordDate.\n",
    "This table contains information about the temperature on a certain day.\n",
    "\n",
    "-- \n",
    "\n",
    "Write a solution to find all dates' Id with higher temperatures compared to its previous dates (yesterday).\n",
    "\n",
    "Return the result table in any order."
   ]
  },
  {
   "cell_type": "code",
   "execution_count": null,
   "metadata": {
    "vscode": {
     "languageId": "sql"
    }
   },
   "outputs": [],
   "source": [
    "SELECT w1.id\n",
    "FROM Weather as w1\n",
    "JOIN Weather as w2 ON DATEDIFF(w1.recordDate, w2.recordDate) = 1 AND w1.temperature > w2.temperature"
   ]
  },
  {
   "cell_type": "markdown",
   "metadata": {},
   "source": [
    "# 1661. Average Time of process per machine\n",
    "\n",
    "Table: Activity\n",
    "\n",
    "| Column Name    | Type    |\n",
    "| --- | --- |\n",
    "| machine_id     | int     |\n",
    "| process_id     | int     |\n",
    "| activity_type  | enum    |\n",
    "| timestamp      | float   |\n",
    "\n",
    "The table shows the user activities for a factory website.\n",
    "(machine_id, process_id, activity_type) is the primary key (combination of columns with unique values) of this table.\n",
    "machine_id is the ID of a machine.\n",
    "process_id is the ID of a process running on the machine with ID machine_id.\n",
    "activity_type is an ENUM (category) of type ('start', 'end').\n",
    "timestamp is a float representing the current time in seconds.\n",
    "'start' means the machine starts the process at the given timestamp and 'end' means the machine ends the process at the given timestamp.\n",
    "The 'start' timestamp will always be before the 'end' timestamp for every (machine_id, process_id) pair.\n",
    "\n",
    "-- \n",
    "\n",
    "There is a factory website that has several machines each running the same number of processes. Write a solution to find the average time each machine takes to complete a process.\n",
    "\n",
    "The time to complete a process is the 'end' timestamp minus the 'start' timestamp. The average time is calculated by the total time to complete every process on the machine divided by the number of processes that were run.\n",
    "\n",
    "The resulting table should have the machine_id along with the average time as processing_time, which should be rounded to 3 decimal places.\n",
    "\n",
    "Return the result table in any order."
   ]
  },
  {
   "cell_type": "code",
   "execution_count": null,
   "metadata": {
    "vscode": {
     "languageId": "sql"
    }
   },
   "outputs": [],
   "source": [
    "SELECT a1.machine_id, ROUND(AVG(a2.timestamp - a1.timestamp), 3) as processing_time \n",
    "FROM Activity as a1\n",
    "JOIN Activity as a2 ON a1.machine_id = a2.machine_id AND a1.process_id = a2.process_id AND a1.activity_type = 'start' AND a2.activity_type = 'end'\n",
    "GROUP BY a1.machine_id"
   ]
  },
  {
   "cell_type": "markdown",
   "metadata": {},
   "source": [
    "# 577. Employee Bonus\n",
    "\n",
    "Table: Employee\n",
    "\n",
    "| Column Name | Type    |\n",
    "| --- | --- |\n",
    "| empId       | int     |\n",
    "| name        | varchar |\n",
    "| supervisor  | int     |\n",
    "| salary      | int     |\n",
    "\n",
    "empId is the column with unique values for this table.\n",
    "Each row of this table indicates the name and the ID of an employee in addition to their salary and the id of their manager.\n",
    " \n",
    "\n",
    "Table: Bonus\n",
    "\n",
    "| Column Name | Type |\n",
    "| --- | --- |\n",
    "| empId       | int  |\n",
    "| bonus       | int  |\n",
    "\n",
    "empId is the column of unique values for this table.\n",
    "empId is a foreign key (reference column) to empId from the Employee table.\n",
    "Each row of this table contains the id of an employee and their respective bonus.\n",
    "\n",
    "--\n",
    "\n",
    "Write a solution to report the name and bonus amount of each employee with a bonus less than 1000.\n",
    "\n",
    "Return the result table in any order."
   ]
  },
  {
   "cell_type": "code",
   "execution_count": null,
   "metadata": {
    "vscode": {
     "languageId": "sql"
    }
   },
   "outputs": [],
   "source": [
    "SELECT emp.name, bon.bonus\n",
    "FROM Employee as emp\n",
    "LEFT JOIN Bonus as bon ON emp.empId = bon.empId\n",
    "WHERE bon.bonus < 1000 OR bon.bonus IS NULL"
   ]
  },
  {
   "cell_type": "markdown",
   "metadata": {},
   "source": [
    "# 1280. Students and Examinations\n",
    "\n",
    "Table: Students\n",
    "\n",
    "| Column Name   | Type    |\n",
    "| --- | --- |\n",
    "| student_id    | int     |\n",
    "| student_name  | varchar |\n",
    "\n",
    "student_id is the primary key (column with unique values) for this table.\n",
    "Each row of this table contains the ID and the name of one student in the school.\n",
    " \n",
    "\n",
    "Table: Subjects\n",
    "\n",
    "| Column Name  | Type    |\n",
    "| --- | --- |\n",
    "| subject_name | varchar |\n",
    "\n",
    "subject_name is the primary key (column with unique values) for this table.\n",
    "Each row of this table contains the name of one subject in the school.\n",
    " \n",
    "\n",
    "Table: Examinations\n",
    "\n",
    "| Column Name  | Type    |\n",
    "| --- | --- |\n",
    "| student_id   | int     |\n",
    "| subject_name | varchar |\n",
    "\n",
    "There is no primary key (column with unique values) for this table. It may contain duplicates.\n",
    "Each student from the Students table takes every course from the Subjects table.\n",
    "Each row of this table indicates that a student with ID student_id attended the exam of subject_name.\n",
    " \n",
    "--\n",
    "\n",
    "Write a solution to find the number of times each student attended each exam.\n",
    "\n",
    "Return the result table ordered by student_id and subject_name."
   ]
  },
  {
   "cell_type": "code",
   "execution_count": null,
   "metadata": {
    "vscode": {
     "languageId": "sql"
    }
   },
   "outputs": [],
   "source": [
    "SELECT stu.student_id, stu.student_name, sub.subject_name, COUNT(exam.student_id) as attended_exams\n",
    "FROM Students as stu\n",
    "CROSS JOIN Subjects as sub\n",
    "LEFT JOIN Examinations as exam ON exam.student_id = stu.student_id AND sub.subject_name = exam.subject_name\n",
    "GROUP BY stu.student_id, stu.student_name, sub.subject_name\n",
    "ORDER BY stu.student_id, sub.subject_name\n"
   ]
  },
  {
   "cell_type": "markdown",
   "metadata": {},
   "source": [
    "# 570. Managers with at Least 5 direct reports\n",
    "\n",
    "able: Employee\n",
    "\n",
    "| Column Name | Type    | \n",
    "| --- | --- |\n",
    "| id          | int     | \n",
    "| name        | varchar | \n",
    "| department  | varchar | \n",
    "| managerId   | int     | \n",
    "\n",
    "id is the primary key (column with unique values) for this table.\n",
    "Each row of this table indicates the name of an employee, their department, and the id of their manager.\n",
    "If managerId is null, then the employee does not have a manager.\n",
    "No employee will be the manager of themself.\n",
    "\n",
    "--\n",
    "\n",
    "Write a solution to find managers with at least five direct reports.\n",
    "\n",
    "Return the result table in any order."
   ]
  },
  {
   "cell_type": "code",
   "execution_count": null,
   "metadata": {
    "vscode": {
     "languageId": "sql"
    }
   },
   "outputs": [],
   "source": [
    "SELECT emp.name\n",
    "FROM Employee as emp\n",
    "INNER JOIN Employee as man ON emp.id = man.managerId or emp.id is NULL\n",
    "GROUP BY man.managerId\n",
    "HAVING COUNT(man.managerId) >= 5"
   ]
  },
  {
   "cell_type": "markdown",
   "metadata": {},
   "source": [
    "# 1934. Confirmation Rate\n",
    "\n",
    "Table: Signups\n",
    "\n",
    "| Column Name    | Type     |\n",
    "| --- | --- |\n",
    "| user_id        | int      |\n",
    "| time_stamp     | datetime |\n",
    "\n",
    "user_id is the column of unique values for this table.\n",
    "Each row contains information about the signup time for the user with ID user_id.\n",
    " \n",
    "\n",
    "Table: Confirmations\n",
    "\n",
    "| Column Name    | Type     |\n",
    "| --- | --- |\n",
    "| user_id        | int      |\n",
    "| time_stamp     | datetime |\n",
    "| action         | ENUM     |\n",
    "\n",
    "(user_id, time_stamp) is the primary key (combination of columns with unique values) for this table.\n",
    "user_id is a foreign key (reference column) to the Signups table.\n",
    "action is an ENUM (category) of the type ('confirmed', 'timeout')\n",
    "Each row of this table indicates that the user with ID user_id requested a confirmation message at time_stamp and that confirmation message was either confirmed ('confirmed') or expired without confirming ('timeout').\n",
    "\n",
    "--\n",
    "\n",
    "The confirmation rate of a user is the number of 'confirmed' messages divided by the total number of requested confirmation messages. The confirmation rate of a user that did not request any confirmation messages is 0. Round the confirmation rate to two decimal places.\n",
    "\n",
    "Write a solution to find the confirmation rate of each user.\n",
    "\n",
    "Return the result table in any order."
   ]
  },
  {
   "cell_type": "code",
   "execution_count": null,
   "metadata": {
    "vscode": {
     "languageId": "sql"
    }
   },
   "outputs": [],
   "source": [
    "////////// First version using JOIN //////////\n",
    "// Total count of actions for each user from Confirmations\n",
    "SELECT s.user_id, COUNT(*) as total_count\n",
    "FROM Signups AS s\n",
    "LEFT JOIN Confirmations AS c ON c.user_id = s.user_id\n",
    "GROUP BY s.user_id\n",
    "\n",
    "// Count of confirmations for each user from Confirmations\n",
    "SELECT s.user_id, COUNT(*) as confirmation_count\n",
    "FROM Signups AS s\n",
    "LEFT JOIN Confirmations AS c ON c.user_id = s.user_id\n",
    "WHERE c.action = 'confirmed' \n",
    "GROUP BY s.user_id\n",
    "\n",
    "// Select unique users in Signups\n",
    "SELECT Signups.user_id\n",
    "FROM Signups\n",
    "GROUP BY Signups.user_id\n",
    "\n",
    "// Everything together\n",
    "SELECT Signups.user_id, ROUND(IFNULL(confirmed.confirmation_count / total.total_count, 0), 2) as confirmation_rate\n",
    "FROM Signups\n",
    "LEFT JOIN (\n",
    "    SELECT s.user_id, COUNT(*) as total_count\n",
    "    FROM Signups AS s\n",
    "    LEFT JOIN Confirmations AS c ON c.user_id = s.user_id\n",
    "    GROUP BY s.user_id\n",
    ") AS total ON Signups.user_id = total.user_id or total.user_id is NULL\n",
    "LEFT JOIN (\n",
    "    SELECT s.user_id, COUNT(*) as confirmation_count\n",
    "    FROM Signups AS s\n",
    "    LEFT JOIN Confirmations AS c ON c.user_id = s.user_id\n",
    "    WHERE c.action = 'confirmed' \n",
    "    GROUP BY s.user_id\n",
    ") AS confirmed ON Signups.user_id = confirmed.user_id or confirmed.user_id is NULL\n",
    "ORDER BY confirmation_rate ASC\n",
    "\n",
    "\n",
    "////////// Second version using Aggregation function (idea from available solutions) //////////\n",
    "SELECT s.user_id, ROUND(AVG(IF(c.action=\"confirmed\", 1, 0)), 2) as confirmation_rate\n",
    "FROM Signups AS s \n",
    "LEFT JOIN Confirmations AS c ON s.user_id = c.user_id \n",
    "GROUP BY user_id;"
   ]
  }
 ],
 "metadata": {
  "language_info": {
   "name": "python"
  }
 },
 "nbformat": 4,
 "nbformat_minor": 2
}
